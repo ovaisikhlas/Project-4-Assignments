{
  "nbformat": 4,
  "nbformat_minor": 0,
  "metadata": {
    "colab": {
      "provenance": [],
      "authorship_tag": "ABX9TyP3zAvTe3nNXywUpST2jSM8",
      "include_colab_link": true
    },
    "kernelspec": {
      "name": "python3",
      "display_name": "Python 3"
    },
    "language_info": {
      "name": "python"
    }
  },
  "cells": [
    {
      "cell_type": "markdown",
      "metadata": {
        "id": "view-in-github",
        "colab_type": "text"
      },
      "source": [
        "<a href=\"https://colab.research.google.com/github/ovaisikhlas/Project-4-Assignments/blob/main/01_expressions.ipynb\" target=\"_parent\"><img src=\"https://colab.research.google.com/assets/colab-badge.svg\" alt=\"Open In Colab\"/></a>"
      ]
    },
    {
      "cell_type": "code",
      "execution_count": null,
      "metadata": {
        "id": "ZSKKQsVN5nrD",
        "colab": {
          "base_uri": "https://localhost:8080/"
        },
        "outputId": "49e25fdb-f2f3-476e-ec9b-dca38377bb44"
      },
      "outputs": [
        {
          "output_type": "stream",
          "name": "stdout",
          "text": [
            "01_dicesimulator\n",
            "die1 in main() start as :10\n",
            "Total of two dies: 7\n",
            "Total of two dies: 2\n",
            "Total of two dies: 8\n",
            "die1 in main() is :10\n"
          ]
        }
      ],
      "source": [
        "import random\n",
        "print(\"01_dicesimulator\")\n",
        "\n",
        "def roll_dice():\n",
        "  die1:int = random.randint(1,6)\n",
        "  die2:int = random.randint(1,6)\n",
        "  total:int = die1 + die2\n",
        "  print(f'Total of two dies: {total}')\n",
        "\n",
        "def main():\n",
        "  die1:int = 10\n",
        "  print(\"die1 in main() start as :\" + str(die1))\n",
        "  roll_dice()\n",
        "  roll_dice()\n",
        "  roll_dice()\n",
        "  print(\"die1 in main() is :\" + str(die1))\n",
        "\n",
        "if __name__ ==\"__main__\":\n",
        "  main()\n"
      ]
    },
    {
      "cell_type": "code",
      "source": [
        "print(\"02_e=mc2\")\n",
        "\n",
        "def energy():\n",
        "  c:float = 299792458\n",
        "  m:float = float(input(\"Enter Kilos of mass: \"))\n",
        "  print(\"e = m*c^2\")\n",
        "  print(\"Mass = \" + str(m) + \" kg \")\n",
        "  print(\"C = \" + str(c) + \" m/s \")\n",
        "  print(\"E = \" + str(m * c** 2) + \" jules \")\n",
        "\n",
        "if __name__ ==\"__main__\":\n",
        "  energy()\n"
      ],
      "metadata": {
        "colab": {
          "base_uri": "https://localhost:8080/"
        },
        "id": "XFzOQ_XtuZhS",
        "outputId": "ce68e136-39d4-4ada-c858-10237dfaab15"
      },
      "execution_count": null,
      "outputs": [
        {
          "output_type": "stream",
          "name": "stdout",
          "text": [
            "02_e=mc2\n",
            "Enter Kilos of mass: 150\n",
            "e = m*c^2\n",
            "Mass = 150.0 kg \n",
            "C = 299792458 m/s \n",
            "E = 1.3481327681052264e+19 jules \n"
          ]
        }
      ]
    },
    {
      "cell_type": "code",
      "source": [
        "print(\"03_feet_to_inches\")\n",
        "\n",
        "inch:int = 12\n",
        "\n",
        "def feet():\n",
        "  feet:int = int(input(\"Enter feet will convert to inches \"))\n",
        "  print(f\"There are {inch * feet} inches in {feet} feet.\")\n",
        "\n",
        "if __name__ ==\"__main__\":\n",
        "  feet()"
      ],
      "metadata": {
        "colab": {
          "base_uri": "https://localhost:8080/"
        },
        "id": "hfqqg3mVRIdW",
        "outputId": "57bde4fe-a45e-4918-872f-ac280c0ede85"
      },
      "execution_count": null,
      "outputs": [
        {
          "output_type": "stream",
          "name": "stdout",
          "text": [
            "03_feet_to_inches\n",
            "Enter feet will convert to inches 10\n",
            "There are 120 inches in 10 feet.\n"
          ]
        }
      ]
    },
    {
      "cell_type": "code",
      "source": [
        "print(\"04_pythagorean_theorem\")\n",
        "import math\n",
        "\n",
        "def triangle():\n",
        "  ab:float = float(input(\"Enter the length of the side ab: \"))\n",
        "  ac:float = float(input(\"Enter the length of the side ac: \"))\n",
        "  bc:float = math.sqrt(ab**2 + ac**2)\n",
        "  print(f\"The Length of bc (the hypothenuse is {bc})\")\n",
        "\n",
        "if __name__ ==\"__main__\":\n",
        "  triangle()"
      ],
      "metadata": {
        "colab": {
          "base_uri": "https://localhost:8080/"
        },
        "id": "-RMbwG63rNmm",
        "outputId": "f3724e61-53fb-480b-c9a2-d2a884d1d115"
      },
      "execution_count": null,
      "outputs": [
        {
          "output_type": "stream",
          "name": "stdout",
          "text": [
            "04_pythagorean_theorem\n",
            "Enter the length of the side ab: 5\n",
            "Enter the length of the side ac: 5\n",
            "The Length of bc (the hypothenuse is 7.0710678118654755)\n"
          ]
        }
      ]
    },
    {
      "cell_type": "code",
      "source": [
        "print(\"05_remainder_division\")\n",
        "\n",
        "def reminder():\n",
        "  num1:int = int(input(\"Enter an integer to be divided: \"))\n",
        "  num2:int = int(input(\"Enter an integer to divided by: \"))\n",
        "  quotient:int = num1 //num2\n",
        "  reminder:int = num1 % num2\n",
        "  print(f\"the result of this division is {quotient} with a reminder of {reminder} \")\n",
        "\n",
        "if __name__ ==\"__main__\":\n",
        "  reminder()\n"
      ],
      "metadata": {
        "colab": {
          "base_uri": "https://localhost:8080/"
        },
        "id": "Qx1PbpDrRTuA",
        "outputId": "f0637432-de23-4d09-e1dd-d62c10baddc8"
      },
      "execution_count": null,
      "outputs": [
        {
          "output_type": "stream",
          "name": "stdout",
          "text": [
            "05_remainder_division\n",
            "Enter an integer to be divided: 17\n",
            "Enter an integer to divided by: 8\n",
            "the result of this division is 2 with a reminder of 1 \n"
          ]
        }
      ]
    },
    {
      "cell_type": "code",
      "source": [
        "print(\"06_rolldice\")\n",
        "import random\n",
        "\n",
        "def dice():\n",
        "  die1:int = random.randint(1,6)\n",
        "  die2:int = random.randint(1,6)\n",
        "  total:int = int(die1 + die2)\n",
        "  print(\"First die: \" + str(die1))\n",
        "  print(\"second die: \" + str(die2))\n",
        "  print(f\"Total of two die : {total}\")\n",
        "\n",
        "if __name__ ==\"__main__\":\n",
        "  dice()"
      ],
      "metadata": {
        "colab": {
          "base_uri": "https://localhost:8080/"
        },
        "id": "5F65iL9LRIgV",
        "outputId": "f7979b85-7f4e-46e8-e534-b277b7aa1c3d"
      },
      "execution_count": null,
      "outputs": [
        {
          "output_type": "stream",
          "name": "stdout",
          "text": [
            "06_rolldice\n",
            "First die: 5\n",
            "second die: 6\n",
            "Total of two die : 11\n"
          ]
        }
      ]
    },
    {
      "cell_type": "code",
      "source": [
        "print(\"06_seconds_in_year\")\n",
        "\n",
        "days_in_year:int = 365\n",
        "hours_per_day:int  = 24\n",
        "minutes_per_hour:int = 60\n",
        "seconds_per_minutes:int = 60\n",
        "\n",
        "def seconds():\n",
        "  print(f\"There are {days_in_year * hours_per_day * minutes_per_hour * seconds_per_minutes} seconds in a year!\")\n",
        "\n",
        "if __name__ ==\"__main__\":\n",
        "  seconds()\n"
      ],
      "metadata": {
        "colab": {
          "base_uri": "https://localhost:8080/"
        },
        "id": "lGcYCb8WRIi7",
        "outputId": "78227085-559c-4934-cd00-9b36575cb7cf"
      },
      "execution_count": null,
      "outputs": [
        {
          "output_type": "stream",
          "name": "stdout",
          "text": [
            "06_seconds_in_year\n",
            "There are 31536000 seconds in a year!\n"
          ]
        }
      ]
    },
    {
      "cell_type": "code",
      "source": [
        "print(\"07_tiny_mad_lib\")\n",
        "\n",
        "name = input(\"Enter the boy name. \")\n",
        "programming_language = input(\"Enter a Programming language (e.g: python, nextjs,typescript, html, css, javascript):. \")\n",
        "mentor = input(\"Enter mentor name. \")\n",
        "location = input(\"Enter location eg: governor house. \")\n",
        "\n",
        "#story created\n",
        "print(\"\\n Here is my little story based on mad lib game. \")\n",
        "print(f\"One's upon a time, there was a boy name {name}. \")\n",
        "print(f\"{name} was very curious and always want to learn new things. \")\n",
        "print(f\"One day, he decided to learn {programming_language} programming language at {location}. \")\n",
        "print(f\"Luckily {name} found a great mentor name {mentor} who was an expert in {programming_language}. \")\n",
        "print(f\"And so , his journey start....! \")"
      ],
      "metadata": {
        "id": "EzH7awGXRIlo",
        "colab": {
          "base_uri": "https://localhost:8080/"
        },
        "outputId": "9cb05293-e6db-4330-be18-47037c2034bc"
      },
      "execution_count": 12,
      "outputs": [
        {
          "output_type": "stream",
          "name": "stdout",
          "text": [
            "07_tiny_mad_lib\n",
            "Enter the boy name. Ovais \n",
            "Enter a Programming language (e.g: python, nextjs,typescript, html, css, javascript):. Python\n",
            "Enter mentor name. Mubashir\n",
            "Enter location eg: governor house. Governor House\n",
            "\n",
            " Here is my little story based on mad lib game. \n",
            "One's upon a time, there was a boy name Ovais . \n",
            "Ovais  was very curious and always want to learn new things. \n",
            "One day, he decided to learn Python programming language at Governor House. \n",
            "Luckily Ovais  found a great mentor name Mubashir who was an expert in Python. \n",
            "And so , his journey start....! \n"
          ]
        }
      ]
    },
    {
      "cell_type": "code",
      "source": [],
      "metadata": {
        "id": "Oth66ZBCRIoY"
      },
      "execution_count": null,
      "outputs": []
    },
    {
      "cell_type": "code",
      "source": [],
      "metadata": {
        "id": "6aKsCSiLRIqv"
      },
      "execution_count": null,
      "outputs": []
    }
  ]
}