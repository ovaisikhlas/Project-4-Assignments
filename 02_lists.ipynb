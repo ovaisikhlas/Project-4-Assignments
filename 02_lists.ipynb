{
  "nbformat": 4,
  "nbformat_minor": 0,
  "metadata": {
    "colab": {
      "provenance": [],
      "authorship_tag": "ABX9TyPGpwUDh0twjKC16HDJ6Dbh",
      "include_colab_link": true
    },
    "kernelspec": {
      "name": "python3",
      "display_name": "Python 3"
    },
    "language_info": {
      "name": "python"
    }
  },
  "cells": [
    {
      "cell_type": "markdown",
      "metadata": {
        "id": "view-in-github",
        "colab_type": "text"
      },
      "source": [
        "<a href=\"https://colab.research.google.com/github/ovaisikhlas/Project-4-Assignments/blob/main/02_lists.ipynb\" target=\"_parent\"><img src=\"https://colab.research.google.com/assets/colab-badge.svg\" alt=\"Open In Colab\"/></a>"
      ]
    },
    {
      "cell_type": "code",
      "execution_count": null,
      "metadata": {
        "colab": {
          "base_uri": "https://localhost:8080/"
        },
        "id": "nfddTPCk3FSy",
        "outputId": "69f96590-6f54-4004-a641-10f7236b7bee"
      },
      "outputs": [
        {
          "output_type": "stream",
          "name": "stdout",
          "text": [
            "01_add_many_number\n",
            "15\n"
          ]
        }
      ],
      "source": [
        "print(\"01_add_many_number\")\n",
        "\n",
        "def add_number(numbers)->int:\n",
        "  num:int = 0\n",
        "  for i in numbers:\n",
        "    num += i\n",
        "  return num\n",
        "\n",
        "def main():\n",
        "  numbers:list(int) = [1,2,3,4,5]\n",
        "  sum = add_number(numbers)\n",
        "  print(sum)\n",
        "\n",
        "if __name__==\"__main__\":\n",
        "  main()\n",
        "\n"
      ]
    },
    {
      "cell_type": "code",
      "source": [
        "print(\"02_double_list\")\n",
        "\n",
        "def main():\n",
        "  numbers:list[int] = [1,2,3,4,5]\n",
        "  for i in range(len(numbers)):\n",
        "    index = numbers[i]\n",
        "    numbers[i] = index *2\n",
        "\n",
        "  print(numbers)\n",
        "\n",
        "if __name__==\"__main__\":\n",
        "  main()\n",
        "\n",
        "\n",
        "\n"
      ],
      "metadata": {
        "colab": {
          "base_uri": "https://localhost:8080/"
        },
        "id": "5uObLUcZwm3p",
        "outputId": "b111b71f-4155-4da1-ad2c-fa8c0883e1db"
      },
      "execution_count": null,
      "outputs": [
        {
          "output_type": "stream",
          "name": "stdout",
          "text": [
            "02_double_list\n",
            "[2, 4, 6, 8, 10]\n"
          ]
        }
      ]
    },
    {
      "cell_type": "code",
      "source": [
        "print(\"04_flowing_with_data_structures\")\n",
        "\n",
        "def add_three_copies(list, data):\n",
        "  for i in range(3):\n",
        "    list.append(data)\n",
        "\n",
        "def main():\n",
        "    message = input(\"Enter a message \")\n",
        "    list = []\n",
        "    print(\"before_List\" , list)\n",
        "    add_three_copies(list, message)\n",
        "    print(\"after_List\" , list)\n",
        "\n",
        "if __name__==\"__main__\":\n",
        "  main()"
      ],
      "metadata": {
        "colab": {
          "base_uri": "https://localhost:8080/"
        },
        "id": "QMnNawSJnOzG",
        "outputId": "8146dcba-c6fa-49c6-aa01-50200493d8fe"
      },
      "execution_count": null,
      "outputs": [
        {
          "output_type": "stream",
          "name": "stdout",
          "text": [
            "04_flowing_with_data_structures\n",
            "Enter a message Hello\n",
            "before_List []\n",
            "after_List ['Hello', 'Hello', 'Hello']\n"
          ]
        }
      ]
    },
    {
      "cell_type": "code",
      "source": [
        "print(\"05_get_first_element\")\n",
        "\n",
        "def get_first_element(list):\n",
        "  print(list[0])\n",
        "\n",
        "def get_list():\n",
        "  list = []\n",
        "  element:str = input('Enter an element to add to a list')\n",
        "  while element != \"\":\n",
        "    list.append(element)\n",
        "    element = input('Enter an element to add to a list')\n",
        "  return list\n",
        "\n",
        "def main():\n",
        "  list = get_list()\n",
        "  get_first_element(list)\n",
        "\n",
        "if __name__==\"__main__\":\n",
        "  main()\n"
      ],
      "metadata": {
        "id": "iNPYTtngW7tE",
        "colab": {
          "base_uri": "https://localhost:8080/"
        },
        "outputId": "30e17083-e57f-49f2-c155-4c7d93d73fff"
      },
      "execution_count": 7,
      "outputs": [
        {
          "output_type": "stream",
          "name": "stdout",
          "text": [
            "05_get_first_element\n",
            "Enter an element to add to a lista\n",
            "Enter an element to add to a list\n",
            "a\n"
          ]
        }
      ]
    },
    {
      "cell_type": "code",
      "source": [
        "print(\"06_get_last_element\")\n",
        "\n",
        "def get_last_element(list):\n",
        "  print(list[-1])\n",
        "\n",
        "def get_list():\n",
        "  list = []\n",
        "  element:str = input(\"Enter an element to add to a list \")\n",
        "  while element!= \"\":\n",
        "    list.append(element)\n",
        "    element:str = input(\"Enter an element to add to a list \")\n",
        "  return list\n",
        "\n",
        "def main():\n",
        "  list =  get_list()\n",
        "  get_last_element(list)\n",
        "\n",
        "\n",
        "if __name__==\"__main__\":\n",
        "  main()\n"
      ],
      "metadata": {
        "colab": {
          "base_uri": "https://localhost:8080/"
        },
        "id": "CcajTK2ydiaI",
        "outputId": "e156ee44-73b7-4178-a8dc-2fbefdd79a78"
      },
      "execution_count": 11,
      "outputs": [
        {
          "output_type": "stream",
          "name": "stdout",
          "text": [
            "06_get_last_element\n",
            "Enter an element to add to a list a\n",
            "Enter an element to add to a list b\n",
            "Enter an element to add to a list v\n",
            "Enter an element to add to a list \n",
            "v\n"
          ]
        }
      ]
    },
    {
      "cell_type": "code",
      "source": [
        "print(\"07_get_list\")\n",
        "\n",
        "def main():\n",
        "  list = []\n",
        "  val = input(\"Enter a value to add to the list. \")\n",
        "  while val:\n",
        "    list.append(val)\n",
        "    val = input(\"Enter a value to add to the list. \")\n",
        "  print(\"Here is the list\", list )\n",
        "\n",
        "if __name__==\"__main__\":\n",
        "  main()"
      ],
      "metadata": {
        "colab": {
          "base_uri": "https://localhost:8080/"
        },
        "id": "tc-cBh7n5tlV",
        "outputId": "829da45c-32ec-4ec4-affa-30b3333cee93"
      },
      "execution_count": 6,
      "outputs": [
        {
          "output_type": "stream",
          "name": "stdout",
          "text": [
            "07_get_list\n",
            "Enter a value to add to the list. a\n",
            "Enter a value to add to the list. b\n",
            "Enter a value to add to the list. c\n",
            "Enter a value to add to the list. d\n",
            "Enter a value to add to the list. e\n",
            "Enter a value to add to the list. \n",
            "Here is the list ['a', 'b', 'c', 'd', 'e']\n"
          ]
        }
      ]
    },
    {
      "cell_type": "code",
      "source": [
        "print(\"08_shorten\")\n",
        "\n",
        "MAX_LENGTH:int = 3\n",
        "\n",
        "def shorten(list):\n",
        "  while len(list) > MAX_LENGTH:\n",
        "    last_element = list.pop()\n",
        "    print(last_element)\n",
        "\n",
        "def get_list():\n",
        "  list = []\n",
        "  element = input(\"Enter a number to add to a list\")\n",
        "  while element != \"\":\n",
        "    list.append(element)\n",
        "    element = input(\"Enter a value to add to a list \")\n",
        "  return list\n",
        "\n",
        "def main():\n",
        "  list = get_list()\n",
        "  shorten(list)\n",
        "if __name__ ==\"__main__\":\n",
        "  main()\n",
        "\n"
      ],
      "metadata": {
        "colab": {
          "base_uri": "https://localhost:8080/"
        },
        "id": "V4kj9f89-Gvd",
        "outputId": "3de0eed1-bbbf-496d-efe0-689f413ea8f4"
      },
      "execution_count": 11,
      "outputs": [
        {
          "output_type": "stream",
          "name": "stdout",
          "text": [
            "08_shorten\n",
            "Enter a number to add to a lista\n",
            "Enter a value to add to a list b\n",
            "Enter a value to add to a list c\n",
            "Enter a value to add to a list d\n",
            "Enter a value to add to a list e\n",
            "Enter a value to add to a list f\n",
            "Enter a value to add to a list \n",
            "f\n",
            "e\n",
            "d\n"
          ]
        }
      ]
    },
    {
      "cell_type": "code",
      "source": [],
      "metadata": {
        "id": "Io01ngihLIrY"
      },
      "execution_count": 17,
      "outputs": []
    }
  ]
}